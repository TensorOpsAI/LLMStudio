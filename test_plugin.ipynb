{
 "cells": [
  {
   "cell_type": "markdown",
   "metadata": {},
   "source": [
    "## run LLMStudio core capabilities\n",
    "* python 3.12\n",
    "* scope of interess for the plugin: `llmstudio/engine`\n",
    "\n",
    "reproduce:\n",
    "1. clone llmstudio. navigate to project folder\n",
    "1. `pip install -e .` \"-e if you want to edit the source\"\n",
    "1. add your \"OPENAI_API_KEY\" to your environment or to a .env file\n",
    "1. run the code below"
   ]
  },
  {
   "cell_type": "code",
   "execution_count": 2,
   "metadata": {},
   "outputs": [],
   "source": [
    "from llmstudio.engine.providers.azure import AzureProvider\n",
    "from llmstudio.engine.providers.openai import OpenAIProvider\n",
    "\n",
    "\n",
    "def LLM(config):\n",
    "    provider_map =dict(\n",
    "    openai=OpenAIProvider,\n",
    "    azure=AzureProvider)\n",
    "\n",
    "    provider = provider_map.get(config.id)\n",
    "    if provider:\n",
    "        return provider(config=config)\n",
    "    raise NotImplementedError(f\"Provider not found: {config.id}\")"
   ]
  },
  {
   "cell_type": "code",
   "execution_count": 3,
   "metadata": {},
   "outputs": [
    {
     "data": {
      "text/plain": [
       "<llmstudio.engine.providers.openai.OpenAIProvider at 0x117c3f440>"
      ]
     },
     "execution_count": 3,
     "metadata": {},
     "output_type": "execute_result"
    }
   ],
   "source": [
    "from llmstudio.engine import ModelConfig, ProviderConfig\n",
    "provider_config = ProviderConfig(\n",
    "        id=\"openai\",\n",
    "        name=\"OpenAI\",\n",
    "        chat=True,\n",
    "        embed=False,\n",
    "        keys=[\"OPENAI_API_KEY\"],\n",
    "        models={\n",
    "            \"gpt-3.5-turbo\": ModelConfig(\n",
    "                mode=\"chat\",\n",
    "                max_tokens=2048,\n",
    "                input_token_cost=0.0000015,\n",
    "                output_token_cost=0.000002,\n",
    "            )\n",
    "        },\n",
    "    )\n",
    "\n",
    "llm = LLM(config=provider_config)\n",
    "llm"
   ]
  },
  {
   "cell_type": "code",
   "execution_count": 4,
   "metadata": {},
   "outputs": [],
   "source": [
    "import os\n",
    "import json\n",
    "from dotenv import load_dotenv\n",
    "load_dotenv()\n",
    "\n",
    "\n",
    "chat_request = dict(\n",
    "    chat_input=\"Hello?\"\n",
    "\n",
    "    ,api_key=os.environ[\"OPENAI_API_KEY\"]\n",
    "    ,model=\"gpt-3.5-turbo\"\n",
    "    ,parameters={\"temperature\": 0, \"max_tokens\":100} \n",
    "    ,is_stream = False\n",
    "    ,has_end_token = False\n",
    "    ,functions = None\n",
    "    ,session_id = \"this-is-a-test\"\n",
    "    ,retries=0)\n",
    "\n",
    "result = await llm.chat(chat_request)\n",
    "result = json.loads(result.body)"
   ]
  },
  {
   "cell_type": "code",
   "execution_count": 5,
   "metadata": {},
   "outputs": [
    {
     "data": {
      "text/plain": [
       "'Hello! How can I assist you today?'"
      ]
     },
     "execution_count": 5,
     "metadata": {},
     "output_type": "execute_result"
    }
   ],
   "source": [
    "result[\"chat_output\"]"
   ]
  },
  {
   "cell_type": "code",
   "execution_count": 6,
   "metadata": {},
   "outputs": [
    {
     "data": {
      "text/plain": [
       "{'input_tokens': 2,\n",
       " 'output_tokens': 9,\n",
       " 'total_tokens': 11,\n",
       " 'cost_usd': 2.1000000000000002e-05,\n",
       " 'latency_s': 0.9562759399414062,\n",
       " 'time_to_first_token_s': 0.8913726806640625,\n",
       " 'inter_token_latency_s': 0.005661511421203613,\n",
       " 'tokens_per_second': 11.50295593620603}"
      ]
     },
     "execution_count": 6,
     "metadata": {},
     "output_type": "execute_result"
    }
   ],
   "source": [
    "result.get(\"metrics\")"
   ]
  },
  {
   "cell_type": "code",
   "execution_count": null,
   "metadata": {},
   "outputs": [],
   "source": []
  },
  {
   "cell_type": "markdown",
   "metadata": {},
   "source": [
    "## running proxy server"
   ]
  },
  {
   "cell_type": "code",
   "execution_count": 8,
   "metadata": {},
   "outputs": [
    {
     "name": "stdout",
     "output_type": "stream",
     "text": [
      "Running LLMstudio Engine on http://0.0.0.0:8001 Running LLMstudio Tracking on http://0.0.0.0:8002 \n",
      "\n"
     ]
    }
   ],
   "source": [
    "from llmstudio.cli import start_server\n",
    "# start_server()"
   ]
  },
  {
   "cell_type": "code",
   "execution_count": 2,
   "metadata": {},
   "outputs": [],
   "source": []
  },
  {
   "cell_type": "code",
   "execution_count": null,
   "metadata": {},
   "outputs": [],
   "source": []
  },
  {
   "cell_type": "code",
   "execution_count": null,
   "metadata": {},
   "outputs": [],
   "source": []
  }
 ],
 "metadata": {
  "kernelspec": {
   "display_name": "venv",
   "language": "python",
   "name": "python3"
  },
  "language_info": {
   "codemirror_mode": {
    "name": "ipython",
    "version": 3
   },
   "file_extension": ".py",
   "mimetype": "text/x-python",
   "name": "python",
   "nbconvert_exporter": "python",
   "pygments_lexer": "ipython3",
   "version": "3.12.2"
  }
 },
 "nbformat": 4,
 "nbformat_minor": 2
}
