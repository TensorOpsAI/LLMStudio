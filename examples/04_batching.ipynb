{
 "cells": [
  {
   "cell_type": "markdown",
   "metadata": {},
   "source": [
    "### Imports"
   ]
  },
  {
   "cell_type": "code",
   "execution_count": 1,
   "metadata": {},
   "outputs": [
    {
     "name": "stdout",
     "output_type": "stream",
     "text": [
      "Running LLMstudio Engine on http://localhost:50001 Running LLMstudio Tracking on http://localhost:50002 \n",
      "\n"
     ]
    }
   ],
   "source": [
    "from llmstudio import LLM\n",
    "import nest_asyncio\n",
    "nest_asyncio.apply()"
   ]
  },
  {
   "cell_type": "markdown",
   "metadata": {},
   "source": [
    "### Setup model"
   ]
  },
  {
   "cell_type": "code",
   "execution_count": 2,
   "metadata": {},
   "outputs": [],
   "source": [
    "# llm = LLM(\"openai/gpt-3.5-turbo\")\n",
    "llm = LLM(\"vertexai/gemini-1.5-flash\")"
   ]
  },
  {
   "cell_type": "markdown",
   "metadata": {},
   "source": [
    "### Define Arguments"
   ]
  },
  {
   "cell_type": "code",
   "execution_count": 4,
   "metadata": {},
   "outputs": [],
   "source": [
    "inputs = [\n",
    "    \"What's your name?\",\n",
    "    \"Tell me a joke.\",\n",
    "    \"What's the weather like?\",\n",
    "    \"Can you sing a song?\",\n",
    "    \"Tell me about yourself.\",\n",
    "    \"What's your favorite color?\",\n",
    "    \"Do you have any pets?\",\n",
    "    \"What's your favorite food?\",\n",
    "    \"What's your favorite book?\",\n",
    "    \"Who is your favorite author?\",\n",
    "    \"What's your favorite movie?\",\n",
    "    \"Who is your favorite actor?\",\n",
    "    \"What's your favorite song?\",\n",
    "    \"Who is your favorite singer?\",\n",
    "    \"What's your favorite sport?\",\n",
    "    \"Who is your favorite athlete?\",\n",
    "    \"What's your favorite team?\",\n",
    "    \"What's your favorite city?\",\n",
    "    \"What's your favorite country?\",\n",
    "    \"What's your favorite place?\"\n",
    "]"
   ]
  },
  {
   "cell_type": "markdown",
   "metadata": {},
   "source": [
    "### Usage"
   ]
  },
  {
   "cell_type": "code",
   "execution_count": 7,
   "metadata": {},
   "outputs": [
    {
     "name": "stderr",
     "output_type": "stream",
     "text": [
      "Getting chat responses: 100%|██████████| 20/20 [00:05<00:00,  3.93it/s]\n"
     ]
    }
   ],
   "source": [
    "responses = llm.batch_chat(inputs=inputs)"
   ]
  },
  {
   "cell_type": "code",
   "execution_count": 8,
   "metadata": {},
   "outputs": [
    {
     "data": {
      "text/plain": [
       "[ChatCompletion(id='ab17fd7c-07e2-4012-83d4-df07a0486b26', choices=[Choice(finish_reason='stop', index=0, logprobs=None, message=ChatCompletionMessage(content=\"I don't have a name. I am a large language model, and I am not a person. I am here to help you with any questions or tasks you may have. 😊 \\n\", role='assistant', function_call=None, tool_calls=None))], created=1725282549, model='gemini-1.5-flash', object='chat.completion', system_fingerprint=None, usage=None, session_id=None, chat_input=\"What's your name?\", chat_output=\"I don't have a name. I am a large language model, and I am not a person. I am here to help you with any questions or tasks you may have. 😊 \\n\", context=[{'role': 'user', 'content': \"What's your name?\"}], provider='vertexai', deployment='gemini-1.5-flash', timestamp=1725282549.417469, parameters={'top_p': 1, 'top_k': 1, 'temperature': 1, 'max_output_tokens': 8192, 'frequency_penalty': 0, 'presence_penalty': 0}, metrics={'input_tokens': 5, 'output_tokens': 39, 'total_tokens': 44, 'cost_usd': 4.27e-05, 'latency_s': 2.6242151260375977, 'time_to_first_token_s': 2.623414993286133, 'inter_token_latency_s': 7.643018450055803e-05, 'tokens_per_second': 3.0485305570505967}),\n",
       " ChatCompletion(id='7bff84b5-7192-4f01-8b7b-4cd1b9c9072c', choices=[Choice(finish_reason='stop', index=0, logprobs=None, message=ChatCompletionMessage(content=\"Why don't scientists trust atoms? \\n\\nBecause they make up everything! \\n\", role='assistant', function_call=None, tool_calls=None))], created=1725282550, model='gemini-1.5-flash', object='chat.completion', system_fingerprint=None, usage=None, session_id=None, chat_input='Tell me a joke.', chat_output=\"Why don't scientists trust atoms? \\n\\nBecause they make up everything! \\n\", context=[{'role': 'user', 'content': 'Tell me a joke.'}], provider='vertexai', deployment='gemini-1.5-flash', timestamp=1725282550.300508, parameters={'top_p': 1, 'top_k': 1, 'temperature': 1, 'max_output_tokens': 8192, 'frequency_penalty': 0, 'presence_penalty': 0}, metrics={'input_tokens': 5, 'output_tokens': 15, 'total_tokens': 20, 'cost_usd': 1.75e-05, 'latency_s': 0.76043701171875, 'time_to_first_token_s': 0.5848679542541504, 'inter_token_latency_s': 0.02977304458618164, 'tokens_per_second': 7.8901998555261255}),\n",
       " ChatCompletion(id='3978c535-45b1-49df-9e90-68272ec93b7c', choices=[Choice(finish_reason='stop', index=0, logprobs=None, message=ChatCompletionMessage(content='I do not have access to real-time information, including weather. To get the current weather, I recommend checking a reliable weather app or website for your location. \\n', role='assistant', function_call=None, tool_calls=None))], created=1725282549, model='gemini-1.5-flash', object='chat.completion', system_fingerprint=None, usage=None, session_id=None, chat_input=\"What's the weather like?\", chat_output='I do not have access to real-time information, including weather. To get the current weather, I recommend checking a reliable weather app or website for your location. \\n', context=[{'role': 'user', 'content': \"What's the weather like?\"}], provider='vertexai', deployment='gemini-1.5-flash', timestamp=1725282549.412817, parameters={'top_p': 1, 'top_k': 1, 'temperature': 1, 'max_output_tokens': 8192, 'frequency_penalty': 0, 'presence_penalty': 0}, metrics={'input_tokens': 6, 'output_tokens': 33, 'total_tokens': 39, 'cost_usd': 3.674999999999999e-05, 'latency_s': 2.616752862930298, 'time_to_first_token_s': 2.6161389350891113, 'inter_token_latency_s': 4.574230739048549e-05, 'tokens_per_second': 3.057224131988308}),\n",
       " ChatCompletion(id='4fc79fe6-3412-46f1-bbb9-8733de9b2589', choices=[Choice(finish_reason='stop', index=0, logprobs=None, message=ChatCompletionMessage(content=\"I can't sing a song in the way you might expect. I'm a large language model, not a singer! I can't produce sound or music. \\n\\nHowever, I can do some fun things related to singing:\\n\\n* **Write lyrics:** Tell me a theme or story and I can create lyrics for you.\\n* **Generate melodies:** I can suggest melodies based on your lyrics or desired mood.\\n* **Provide information about songs:** Ask me about famous singers, song genres, or music history. \\n\\nHow can I help you with music today? 😊 \\n\", role='assistant', function_call=None, tool_calls=None))], created=1725282549, model='gemini-1.5-flash', object='chat.completion', system_fingerprint=None, usage=None, session_id=None, chat_input='Can you sing a song?', chat_output=\"I can't sing a song in the way you might expect. I'm a large language model, not a singer! I can't produce sound or music. \\n\\nHowever, I can do some fun things related to singing:\\n\\n* **Write lyrics:** Tell me a theme or story and I can create lyrics for you.\\n* **Generate melodies:** I can suggest melodies based on your lyrics or desired mood.\\n* **Provide information about songs:** Ask me about famous singers, song genres, or music history. \\n\\nHow can I help you with music today? 😊 \\n\", context=[{'role': 'user', 'content': 'Can you sing a song?'}], provider='vertexai', deployment='gemini-1.5-flash', timestamp=1725282549.428771, parameters={'top_p': 1, 'top_k': 1, 'temperature': 1, 'max_output_tokens': 8192, 'frequency_penalty': 0, 'presence_penalty': 0}, metrics={'input_tokens': 6, 'output_tokens': 114, 'total_tokens': 120, 'cost_usd': 0.00012179999999999998, 'latency_s': 2.6318068504333496, 'time_to_first_token_s': 2.6313297748565674, 'inter_token_latency_s': 3.790855407714844e-05, 'tokens_per_second': 4.559605123766623}),\n",
       " Exception(\"'NoneType' object is not subscriptable\"),\n",
       " ChatCompletion(id='d1679e2b-a69e-4aac-8c41-2a6a22a7b28c', choices=[Choice(finish_reason='stop', index=0, logprobs=None, message=ChatCompletionMessage(content=\"As a large language model, I don't have personal preferences like favorite colors. I can process and generate text, translate languages, write different kinds of creative content, and answer your questions in an informative way. \\n\\nWhat about you? What's your favorite color? 😊 \\n\", role='assistant', function_call=None, tool_calls=None))], created=1725282551, model='gemini-1.5-flash', object='chat.completion', system_fingerprint=None, usage=None, session_id=None, chat_input=\"What's your favorite color?\", chat_output=\"As a large language model, I don't have personal preferences like favorite colors. I can process and generate text, translate languages, write different kinds of creative content, and answer your questions in an informative way. \\n\\nWhat about you? What's your favorite color? 😊 \\n\", context=[{'role': 'user', 'content': \"What's your favorite color?\"}], provider='vertexai', deployment='gemini-1.5-flash', timestamp=1725282551.0122318, parameters={'top_p': 1, 'top_k': 1, 'temperature': 1, 'max_output_tokens': 8192, 'frequency_penalty': 0, 'presence_penalty': 0}, metrics={'input_tokens': 6, 'output_tokens': 56, 'total_tokens': 62, 'cost_usd': 6.089999999999999e-05, 'latency_s': 1.4714031219482422, 'time_to_first_token_s': 1.4709832668304443, 'inter_token_latency_s': 4.2131968906947547e-05, 'tokens_per_second': 5.436987240728042}),\n",
       " ChatCompletion(id='89011ef5-999e-46fe-bea0-0597eb571794', choices=[Choice(finish_reason='stop', index=0, logprobs=None, message=ChatCompletionMessage(content=\"As a large language model, I don't have pets. I am an AI and don't have a physical body or the ability to care for a pet. 😄  \\n\\nWhat about you? Do you have any pets? 🐶🐱 \\n\", role='assistant', function_call=None, tool_calls=None))], created=1725282549, model='gemini-1.5-flash', object='chat.completion', system_fingerprint=None, usage=None, session_id=None, chat_input='Do you have any pets?', chat_output=\"As a large language model, I don't have pets. I am an AI and don't have a physical body or the ability to care for a pet. 😄  \\n\\nWhat about you? Do you have any pets? 🐶🐱 \\n\", context=[{'role': 'user', 'content': 'Do you have any pets?'}], provider='vertexai', deployment='gemini-1.5-flash', timestamp=1725282549.432054, parameters={'top_p': 1, 'top_k': 1, 'temperature': 1, 'max_output_tokens': 8192, 'frequency_penalty': 0, 'presence_penalty': 0}, metrics={'input_tokens': 6, 'output_tokens': 52, 'total_tokens': 58, 'cost_usd': 5.669999999999999e-05, 'latency_s': 2.637786865234375, 'time_to_first_token_s': 2.6374096870422363, 'inter_token_latency_s': 4.332406180245536e-05, 'tokens_per_second': 3.0328454908312605}),\n",
       " ChatCompletion(id='311c54eb-0940-4424-9072-d2fbac4c1071', choices=[Choice(finish_reason='stop', index=0, logprobs=None, message=ChatCompletionMessage(content=\"As a large language model, I don't have personal preferences like favorite foods. I'm here to help you with information and complete tasks! \\n\\nIs there anything else you'd like to know or do?  😊 \\n\", role='assistant', function_call=None, tool_calls=None))], created=1725282551, model='gemini-1.5-flash', object='chat.completion', system_fingerprint=None, usage=None, session_id=None, chat_input=\"What's your favorite food?\", chat_output=\"As a large language model, I don't have personal preferences like favorite foods. I'm here to help you with information and complete tasks! \\n\\nIs there anything else you'd like to know or do?  😊 \\n\", context=[{'role': 'user', 'content': \"What's your favorite food?\"}], provider='vertexai', deployment='gemini-1.5-flash', timestamp=1725282551.86786, parameters={'top_p': 1, 'top_k': 1, 'temperature': 1, 'max_output_tokens': 8192, 'frequency_penalty': 0, 'presence_penalty': 0}, metrics={'input_tokens': 6, 'output_tokens': 45, 'total_tokens': 51, 'cost_usd': 4.934999999999999e-05, 'latency_s': 2.327742099761963, 'time_to_first_token_s': 2.3271219730377197, 'inter_token_latency_s': 8.08579581124442e-05, 'tokens_per_second': 3.436806852794426}),\n",
       " ChatCompletion(id='46e43ca7-7482-4909-b099-c82c3c264b68', choices=[Choice(finish_reason='stop', index=0, logprobs=None, message=ChatCompletionMessage(content='As a large language model, I don\\'t have personal preferences like favorite books. I can access and process information from a vast amount of text data, but I don\\'t have feelings or emotions. \\n\\nHowever, I can tell you about some popular and critically acclaimed books that are often considered favorites by many:\\n\\n* **\"To Kill a Mockingbird\" by Harper Lee:** This classic novel explores themes of racial injustice and prejudice in the American South.\\n* **\"Pride and Prejudice\" by Jane Austen:** A witty and romantic novel about love, marriage, and social class in 19th-century England.\\n* **\"The Lord of the Rings\" by J.R.R. Tolkien:** An epic fantasy adventure that has captured the imaginations of readers for generations.\\n* **\"1984\" by George Orwell:** A dystopian novel that explores themes of totalitarianism and surveillance.\\n* **\"The Hitchhiker\\'s Guide to the Galaxy\" by Douglas Adams:** A humorous science fiction classic about a man who travels the galaxy.\\n\\nThese are just a few examples, and there are many other great books out there! What are some of your favorite books? \\n', role='assistant', function_call=None, tool_calls=None))], created=1725282549, model='gemini-1.5-flash', object='chat.completion', system_fingerprint=None, usage=None, session_id=None, chat_input=\"What's your favorite book?\", chat_output='As a large language model, I don\\'t have personal preferences like favorite books. I can access and process information from a vast amount of text data, but I don\\'t have feelings or emotions. \\n\\nHowever, I can tell you about some popular and critically acclaimed books that are often considered favorites by many:\\n\\n* **\"To Kill a Mockingbird\" by Harper Lee:** This classic novel explores themes of racial injustice and prejudice in the American South.\\n* **\"Pride and Prejudice\" by Jane Austen:** A witty and romantic novel about love, marriage, and social class in 19th-century England.\\n* **\"The Lord of the Rings\" by J.R.R. Tolkien:** An epic fantasy adventure that has captured the imaginations of readers for generations.\\n* **\"1984\" by George Orwell:** A dystopian novel that explores themes of totalitarianism and surveillance.\\n* **\"The Hitchhiker\\'s Guide to the Galaxy\" by Douglas Adams:** A humorous science fiction classic about a man who travels the galaxy.\\n\\nThese are just a few examples, and there are many other great books out there! What are some of your favorite books? \\n', context=[{'role': 'user', 'content': \"What's your favorite book?\"}], provider='vertexai', deployment='gemini-1.5-flash', timestamp=1725282549.407655, parameters={'top_p': 1, 'top_k': 1, 'temperature': 1, 'max_output_tokens': 8192, 'frequency_penalty': 0, 'presence_penalty': 0}, metrics={'input_tokens': 6, 'output_tokens': 235, 'total_tokens': 241, 'cost_usd': 0.00024884999999999995, 'latency_s': 2.613089084625244, 'time_to_first_token_s': 2.0278382301330566, 'inter_token_latency_s': 0.03728424708048503, 'tokens_per_second': 6.123021252562707}),\n",
       " ChatCompletion(id='3970046f-33f5-4f49-984b-953176e96450', choices=[Choice(finish_reason='stop', index=0, logprobs=None, message=ChatCompletionMessage(content='As a large language model, I don\\'t have personal preferences like favorite authors. I am trained on a massive amount of text data, and I can process and generate human-like text in response to a wide range of prompts and questions. \\n\\nHowever, I can tell you about some authors whose works are highly regarded and have influenced literature:\\n\\n* **Shakespeare:** His plays and sonnets are considered masterpieces of English literature.\\n* **Jane Austen:** Her novels are known for their wit, social commentary, and exploration of romantic relationships.\\n* **Charles Dickens:** His novels offer a vivid portrayal of Victorian society and its social issues.\\n* **Leo Tolstoy:** His novels, such as *War and Peace* and *Anna Karenina*, are renowned for their depth and realism.\\n* **Virginia Woolf:** Her innovative use of stream-of-consciousness and exploration of female consciousness have made her a major figure in modernist literature.\\n\\nUltimately, the \"best\" author is subjective and depends on individual taste. \\n\\nWhat kind of books do you enjoy reading? I might be able to suggest some authors you would like. \\n', role='assistant', function_call=None, tool_calls=None))], created=1725282549, model='gemini-1.5-flash', object='chat.completion', system_fingerprint=None, usage=None, session_id=None, chat_input='Who is your favorite author?', chat_output='As a large language model, I don\\'t have personal preferences like favorite authors. I am trained on a massive amount of text data, and I can process and generate human-like text in response to a wide range of prompts and questions. \\n\\nHowever, I can tell you about some authors whose works are highly regarded and have influenced literature:\\n\\n* **Shakespeare:** His plays and sonnets are considered masterpieces of English literature.\\n* **Jane Austen:** Her novels are known for their wit, social commentary, and exploration of romantic relationships.\\n* **Charles Dickens:** His novels offer a vivid portrayal of Victorian society and its social issues.\\n* **Leo Tolstoy:** His novels, such as *War and Peace* and *Anna Karenina*, are renowned for their depth and realism.\\n* **Virginia Woolf:** Her innovative use of stream-of-consciousness and exploration of female consciousness have made her a major figure in modernist literature.\\n\\nUltimately, the \"best\" author is subjective and depends on individual taste. \\n\\nWhat kind of books do you enjoy reading? I might be able to suggest some authors you would like. \\n', context=[{'role': 'user', 'content': 'Who is your favorite author?'}], provider='vertexai', deployment='gemini-1.5-flash', timestamp=1725282549.534316, parameters={'top_p': 1, 'top_k': 1, 'temperature': 1, 'max_output_tokens': 8192, 'frequency_penalty': 0, 'presence_penalty': 0}, metrics={'input_tokens': 6, 'output_tokens': 226, 'total_tokens': 232, 'cost_usd': 0.00023939999999999996, 'latency_s': 2.7314810752868652, 'time_to_first_token_s': 2.632267951965332, 'inter_token_latency_s': 0.004972267150878906, 'tokens_per_second': 5.857627989723359}),\n",
       " ChatCompletion(id='2eba3a11-ad62-4695-b284-a4604b37b752', choices=[Choice(finish_reason='stop', index=0, logprobs=None, message=ChatCompletionMessage(content=\"As an AI, I don't have personal preferences like favorite movies. I can't experience emotions or have opinions the way humans do.  \\n\\nHowever, I can access and process information about movies!  What kind of movies are you interested in?  Perhaps I can help you find some great recommendations! \\n\", role='assistant', function_call=None, tool_calls=None))], created=1725282548, model='gemini-1.5-flash', object='chat.completion', system_fingerprint=None, usage=None, session_id=None, chat_input=\"What's your favorite movie?\", chat_output=\"As an AI, I don't have personal preferences like favorite movies. I can't experience emotions or have opinions the way humans do.  \\n\\nHowever, I can access and process information about movies!  What kind of movies are you interested in?  Perhaps I can help you find some great recommendations! \\n\", context=[{'role': 'user', 'content': \"What's your favorite movie?\"}], provider='vertexai', deployment='gemini-1.5-flash', timestamp=1725282548.4633758, parameters={'top_p': 1, 'top_k': 1, 'temperature': 1, 'max_output_tokens': 8192, 'frequency_penalty': 0, 'presence_penalty': 0}, metrics={'input_tokens': 6, 'output_tokens': 61, 'total_tokens': 67, 'cost_usd': 6.615e-05, 'latency_s': 1.669997215270996, 'time_to_first_token_s': 1.6693360805511475, 'inter_token_latency_s': 7.571492876325334e-05, 'tokens_per_second': 4.790427149725404}),\n",
       " ChatCompletion(id='5eadf4eb-c1d4-428a-a487-81fe1b46fb76', choices=[Choice(finish_reason='stop', index=0, logprobs=None, message=ChatCompletionMessage(content='As a language model, I don\\'t have personal preferences or favorites like humans do. I can\\'t experience things like watching movies and forming opinions about actors. \\n\\nHowever, I can tell you about some actors who are critically acclaimed and popular: \\n\\n* **Meryl Streep:** Known for her incredible range and versatility, she holds the record for most Academy Award nominations for an actor.\\n* **Daniel Day-Lewis:** Considered one of the greatest actors of all time, he is known for his meticulous preparation and immersive performances.\\n* **Leonardo DiCaprio:** A Hollywood icon, he is known for his captivating performances in films like \"Titanic\" and \"The Revenant.\" \\n\\nDo you have a favorite actor? I\\'d love to hear about them! \\n', role='assistant', function_call=None, tool_calls=None))], created=1725282548, model='gemini-1.5-flash', object='chat.completion', system_fingerprint=None, usage=None, session_id=None, chat_input='Who is your favorite actor?', chat_output='As a language model, I don\\'t have personal preferences or favorites like humans do. I can\\'t experience things like watching movies and forming opinions about actors. \\n\\nHowever, I can tell you about some actors who are critically acclaimed and popular: \\n\\n* **Meryl Streep:** Known for her incredible range and versatility, she holds the record for most Academy Award nominations for an actor.\\n* **Daniel Day-Lewis:** Considered one of the greatest actors of all time, he is known for his meticulous preparation and immersive performances.\\n* **Leonardo DiCaprio:** A Hollywood icon, he is known for his captivating performances in films like \"Titanic\" and \"The Revenant.\" \\n\\nDo you have a favorite actor? I\\'d love to hear about them! \\n', context=[{'role': 'user', 'content': 'Who is your favorite actor?'}], provider='vertexai', deployment='gemini-1.5-flash', timestamp=1725282548.4562838, parameters={'top_p': 1, 'top_k': 1, 'temperature': 1, 'max_output_tokens': 8192, 'frequency_penalty': 0, 'presence_penalty': 0}, metrics={'input_tokens': 6, 'output_tokens': 156, 'total_tokens': 162, 'cost_usd': 0.0001659, 'latency_s': 1.6630589962005615, 'time_to_first_token_s': 0.5853960514068604, 'inter_token_latency_s': 0.08106822233933669, 'tokens_per_second': 8.418222102754331}),\n",
       " ChatCompletion(id='06ea9b83-476e-4bb2-9266-440c8860126a', choices=[Choice(finish_reason='stop', index=0, logprobs=None, message=ChatCompletionMessage(content=\"As a large language model, I don't have personal preferences like favorite songs. I can access and process information from the real world through Google Search and keep my response consistent with search results. \\n\\nWhat are some of your favorite songs? 😊 \\n\", role='assistant', function_call=None, tool_calls=None))], created=1725282551, model='gemini-1.5-flash', object='chat.completion', system_fingerprint=None, usage=None, session_id=None, chat_input=\"What's your favorite song?\", chat_output=\"As a large language model, I don't have personal preferences like favorite songs. I can access and process information from the real world through Google Search and keep my response consistent with search results. \\n\\nWhat are some of your favorite songs? 😊 \\n\", context=[{'role': 'user', 'content': \"What's your favorite song?\"}], provider='vertexai', deployment='gemini-1.5-flash', timestamp=1725282551.019354, parameters={'top_p': 1, 'top_k': 1, 'temperature': 1, 'max_output_tokens': 8192, 'frequency_penalty': 0, 'presence_penalty': 0}, metrics={'input_tokens': 6, 'output_tokens': 50, 'total_tokens': 56, 'cost_usd': 5.459999999999999e-05, 'latency_s': 1.4794487953186035, 'time_to_first_token_s': 1.479189157485962, 'inter_token_latency_s': 3.096035548618862e-05, 'tokens_per_second': 5.4074193208404875}),\n",
       " ChatCompletion(id='aa7152d5-4ef6-4504-8c03-07ef24a12909', choices=[Choice(finish_reason='stop', index=0, logprobs=None, message=ChatCompletionMessage(content=\"As an AI, I don't have personal preferences like favorite singers. I can't experience music the way humans do! 😊\\n\\nBut I can tell you about some amazing singers:\\n\\n* **Aretha Franklin:** A legend known for her powerful voice and soulful renditions of classic songs. \\n* **Freddie Mercury:** A rock icon with a unique vocal range and stage presence. \\n* **Beyoncé:** A pop superstar with incredible vocal abilities and dynamic performances. \\n* **Bob Dylan:** A folk singer-songwriter who revolutionized the music industry with his poetic lyrics and introspective songs.\\n* **Billie Eilish:** A contemporary artist with a distinctive voice and haunting melodies. \\n\\nWho are *your* favorite singers? 🎤🎶 \\n\", role='assistant', function_call=None, tool_calls=None))], created=1725282548, model='gemini-1.5-flash', object='chat.completion', system_fingerprint=None, usage=None, session_id=None, chat_input='Who is your favorite singer?', chat_output=\"As an AI, I don't have personal preferences like favorite singers. I can't experience music the way humans do! 😊\\n\\nBut I can tell you about some amazing singers:\\n\\n* **Aretha Franklin:** A legend known for her powerful voice and soulful renditions of classic songs. \\n* **Freddie Mercury:** A rock icon with a unique vocal range and stage presence. \\n* **Beyoncé:** A pop superstar with incredible vocal abilities and dynamic performances. \\n* **Bob Dylan:** A folk singer-songwriter who revolutionized the music industry with his poetic lyrics and introspective songs.\\n* **Billie Eilish:** A contemporary artist with a distinctive voice and haunting melodies. \\n\\nWho are *your* favorite singers? 🎤🎶 \\n\", context=[{'role': 'user', 'content': 'Who is your favorite singer?'}], provider='vertexai', deployment='gemini-1.5-flash', timestamp=1725282548.8122072, parameters={'top_p': 1, 'top_k': 1, 'temperature': 1, 'max_output_tokens': 8192, 'frequency_penalty': 0, 'presence_penalty': 0}, metrics={'input_tokens': 6, 'output_tokens': 157, 'total_tokens': 163, 'cost_usd': 0.00016695, 'latency_s': 2.0176198482513428, 'time_to_first_token_s': 1.673201084136963, 'inter_token_latency_s': 0.024553445669320915, 'tokens_per_second': 6.938869089800888}),\n",
       " ChatCompletion(id='f28edeeb-6392-4fa0-82d2-ba380b0060f4', choices=[Choice(finish_reason='stop', index=0, logprobs=None, message=ChatCompletionMessage(content=\"As a language model, I don't have personal preferences or the capacity to experience emotions like humans do. Therefore, I don't have a favorite sport. \\n\\nHowever, I can access and process information from the real world and understand that many people enjoy sports.  What's your favorite sport?  I'd love to learn more about it! \\n\", role='assistant', function_call=None, tool_calls=None))], created=1725282551, model='gemini-1.5-flash', object='chat.completion', system_fingerprint=None, usage=None, session_id=None, chat_input=\"What's your favorite sport?\", chat_output=\"As a language model, I don't have personal preferences or the capacity to experience emotions like humans do. Therefore, I don't have a favorite sport. \\n\\nHowever, I can access and process information from the real world and understand that many people enjoy sports.  What's your favorite sport?  I'd love to learn more about it! \\n\", context=[{'role': 'user', 'content': \"What's your favorite sport?\"}], provider='vertexai', deployment='gemini-1.5-flash', timestamp=1725282551.016132, parameters={'top_p': 1, 'top_k': 1, 'temperature': 1, 'max_output_tokens': 8192, 'frequency_penalty': 0, 'presence_penalty': 0}, metrics={'input_tokens': 6, 'output_tokens': 70, 'total_tokens': 76, 'cost_usd': 7.56e-05, 'latency_s': 1.4760932922363281, 'time_to_first_token_s': 1.4757323265075684, 'inter_token_latency_s': 3.544489542643229e-05, 'tokens_per_second': 6.774639551982302}),\n",
       " ChatCompletion(id='7885db6a-84c0-4616-b425-8a9fbac0601f', choices=[Choice(finish_reason='stop', index=0, logprobs=None, message=ChatCompletionMessage(content=\"As a large language model, I don't have personal preferences or the ability to form opinions like humans do. I don't have a favorite athlete because I am not capable of feeling emotions or forming attachments. \\n\\nHowever, I can access and process information about countless athletes! If you'd like to learn more about a specific athlete or would like me to share some interesting facts about athletes, just let me know! 😊 \\n\", role='assistant', function_call=None, tool_calls=None))], created=1725282550, model='gemini-1.5-flash', object='chat.completion', system_fingerprint=None, usage=None, session_id=None, chat_input='Who is your favorite athlete?', chat_output=\"As a large language model, I don't have personal preferences or the ability to form opinions like humans do. I don't have a favorite athlete because I am not capable of feeling emotions or forming attachments. \\n\\nHowever, I can access and process information about countless athletes! If you'd like to learn more about a specific athlete or would like me to share some interesting facts about athletes, just let me know! 😊 \\n\", context=[{'role': 'user', 'content': 'Who is your favorite athlete?'}], provider='vertexai', deployment='gemini-1.5-flash', timestamp=1725282551.0036778, parameters={'top_p': 1, 'top_k': 1, 'temperature': 1, 'max_output_tokens': 8192, 'frequency_penalty': 0, 'presence_penalty': 0}, metrics={'input_tokens': 6, 'output_tokens': 85, 'total_tokens': 91, 'cost_usd': 9.134999999999998e-05, 'latency_s': 1.4634730815887451, 'time_to_first_token_s': 0.8605921268463135, 'inter_token_latency_s': 0.06389655007256402, 'tokens_per_second': 6.833060427147733}),\n",
       " ChatCompletion(id='2897cecc-5633-48bb-b66f-bce3af0e4b07', choices=[Choice(finish_reason='stop', index=0, logprobs=None, message=ChatCompletionMessage(content=\"As an AI, I don't have personal preferences like favorite teams. I can't cheer for anyone or experience the thrill of victory or the agony of defeat!  \\n\\nBut I can tell you about all sorts of teams, from sports to esports to even fictional teams from books and movies.  What kind of team are you interested in? 🤔 \\n\", role='assistant', function_call=None, tool_calls=None))], created=1725282551, model='gemini-1.5-flash', object='chat.completion', system_fingerprint=None, usage=None, session_id=None, chat_input=\"What's your favorite team?\", chat_output=\"As an AI, I don't have personal preferences like favorite teams. I can't cheer for anyone or experience the thrill of victory or the agony of defeat!  \\n\\nBut I can tell you about all sorts of teams, from sports to esports to even fictional teams from books and movies.  What kind of team are you interested in? 🤔 \\n\", context=[{'role': 'user', 'content': \"What's your favorite team?\"}], provider='vertexai', deployment='gemini-1.5-flash', timestamp=1725282551.008379, parameters={'top_p': 1, 'top_k': 1, 'temperature': 1, 'max_output_tokens': 8192, 'frequency_penalty': 0, 'presence_penalty': 0}, metrics={'input_tokens': 6, 'output_tokens': 71, 'total_tokens': 77, 'cost_usd': 7.664999999999999e-05, 'latency_s': 1.4682512283325195, 'time_to_first_token_s': 1.4678592681884766, 'inter_token_latency_s': 3.865030076768663e-05, 'tokens_per_second': 6.81082352054758}),\n",
       " Exception(\"'NoneType' object is not subscriptable\"),\n",
       " ChatCompletion(id='df54b124-4241-4767-acb0-97c5795bcf79', choices=[Choice(finish_reason='stop', index=0, logprobs=None, message=ChatCompletionMessage(content=\"As an AI, I don't have personal preferences like favorite countries.  I can, however, tell you about many countries and their interesting features.  What are you interested in learning about? \\n\\nPerhaps you'd like to know:\\n\\n* **About a country's history?** \\n* **Its culture and traditions?**\\n* **Its geography and natural wonders?**\\n* **Its cuisine?**\\n* **Or something else entirely?** \\n\\nLet me know, and I can provide you with information! 🌎 😊 \\n\", role='assistant', function_call=None, tool_calls=None))], created=1725282549, model='gemini-1.5-flash', object='chat.completion', system_fingerprint=None, usage=None, session_id=None, chat_input=\"What's your favorite country?\", chat_output=\"As an AI, I don't have personal preferences like favorite countries.  I can, however, tell you about many countries and their interesting features.  What are you interested in learning about? \\n\\nPerhaps you'd like to know:\\n\\n* **About a country's history?** \\n* **Its culture and traditions?**\\n* **Its geography and natural wonders?**\\n* **Its cuisine?**\\n* **Or something else entirely?** \\n\\nLet me know, and I can provide you with information! 🌎 😊 \\n\", context=[{'role': 'user', 'content': \"What's your favorite country?\"}], provider='vertexai', deployment='gemini-1.5-flash', timestamp=1725282549.4229949, parameters={'top_p': 1, 'top_k': 1, 'temperature': 1, 'max_output_tokens': 8192, 'frequency_penalty': 0, 'presence_penalty': 0}, metrics={'input_tokens': 6, 'output_tokens': 107, 'total_tokens': 113, 'cost_usd': 0.00011444999999999999, 'latency_s': 2.6269938945770264, 'time_to_first_token_s': 2.6261157989501953, 'inter_token_latency_s': 7.410482926802202e-05, 'tokens_per_second': 4.567958846334558}),\n",
       " ChatCompletion(id='2b4ccb72-4123-49c3-91b6-6598dd647aaa', choices=[Choice(finish_reason='stop', index=0, logprobs=None, message=ChatCompletionMessage(content='As a large language model, I don\\'t have personal preferences or feelings. I don\\'t have a \"favorite place\" in the same way a human does. \\n\\nHowever, I can access and process information from the real world through Google Search and keep my response consistent with search results. \\n\\nIf you\\'d like to know about popular destinations or places people love, I can provide you with information based on various factors like:\\n\\n* **Popular tourist destinations:** Tell me what kind of experience you\\'re looking for (e.g., beaches, mountains, historical sites, bustling cities, etc.).\\n* **Specific locations:** Tell me the country or region you\\'re interested in.\\n* **Your personal preferences:** Tell me what you enjoy doing (e.g., hiking, shopping, exploring museums, etc.).\\n\\nLet me know what you\\'re interested in, and I\\'ll do my best to help you find the perfect place. 😊 \\n', role='assistant', function_call=None, tool_calls=None))], created=1725282551, model='gemini-1.5-flash', object='chat.completion', system_fingerprint=None, usage=None, session_id=None, chat_input=\"What's your favorite place?\", chat_output='As a large language model, I don\\'t have personal preferences or feelings. I don\\'t have a \"favorite place\" in the same way a human does. \\n\\nHowever, I can access and process information from the real world through Google Search and keep my response consistent with search results. \\n\\nIf you\\'d like to know about popular destinations or places people love, I can provide you with information based on various factors like:\\n\\n* **Popular tourist destinations:** Tell me what kind of experience you\\'re looking for (e.g., beaches, mountains, historical sites, bustling cities, etc.).\\n* **Specific locations:** Tell me the country or region you\\'re interested in.\\n* **Your personal preferences:** Tell me what you enjoy doing (e.g., hiking, shopping, exploring museums, etc.).\\n\\nLet me know what you\\'re interested in, and I\\'ll do my best to help you find the perfect place. 😊 \\n', context=[{'role': 'user', 'content': \"What's your favorite place?\"}], provider='vertexai', deployment='gemini-1.5-flash', timestamp=1725282551.8625221, parameters={'top_p': 1, 'top_k': 1, 'temperature': 1, 'max_output_tokens': 8192, 'frequency_penalty': 0, 'presence_penalty': 0}, metrics={'input_tokens': 6, 'output_tokens': 184, 'total_tokens': 190, 'cost_usd': 0.00019529999999999998, 'latency_s': 2.3218188285827637, 'time_to_first_token_s': 1.4816179275512695, 'inter_token_latency_s': 0.05451885859171549, 'tokens_per_second': 6.891149215878479})]"
      ]
     },
     "execution_count": 8,
     "metadata": {},
     "output_type": "execute_result"
    }
   ],
   "source": [
    "responses"
   ]
  },
  {
   "cell_type": "markdown",
   "metadata": {},
   "source": [
    "### Linear chat calls"
   ]
  },
  {
   "cell_type": "code",
   "execution_count": 9,
   "metadata": {},
   "outputs": [
    {
     "name": "stderr",
     "output_type": "stream",
     "text": [
      "100%|██████████| 20/20 [00:20<00:00,  1.00s/it]\n"
     ]
    }
   ],
   "source": [
    "sync_responses = []\n",
    "from tqdm import tqdm\n",
    "for input in tqdm(inputs):\n",
    "    sync_responses = await llm.async_chat(input)"
   ]
  }
 ],
 "metadata": {
  "kernelspec": {
   "display_name": "llmstudiodev",
   "language": "python",
   "name": "python3"
  },
  "language_info": {
   "codemirror_mode": {
    "name": "ipython",
    "version": 3
   },
   "file_extension": ".py",
   "mimetype": "text/x-python",
   "name": "python",
   "nbconvert_exporter": "python",
   "pygments_lexer": "ipython3",
   "version": "3.11.9"
  }
 },
 "nbformat": 4,
 "nbformat_minor": 2
}
