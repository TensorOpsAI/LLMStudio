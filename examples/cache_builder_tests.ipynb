{
 "cells": [
  {
   "cell_type": "markdown",
   "metadata": {},
   "source": [
    "#### Imports"
   ]
  },
  {
   "cell_type": "code",
   "execution_count": 1,
   "metadata": {},
   "outputs": [],
   "source": [
    "from llmstudio import LLM, MessageCache\n",
    "import nest_asyncio\n",
    "nest_asyncio.apply()\n",
    "\n",
    "message_cache = MessageCache(cache_limit=10)"
   ]
  },
  {
   "cell_type": "code",
   "execution_count": 2,
   "metadata": {},
   "outputs": [
    {
     "name": "stdout",
     "output_type": "stream",
     "text": [
      "Running LLMstudio Engine on http://localhost:50001 Running LLMstudio Tracking on http://localhost:50002 \n",
      "\n"
     ]
    }
   ],
   "source": [
    "llm = LLM('openai/gpt-3.5-turbo', message_cache=message_cache)"
   ]
  },
  {
   "cell_type": "code",
   "execution_count": 8,
   "metadata": {},
   "outputs": [
    {
     "name": "stdout",
     "output_type": "stream",
     "text": [
      "Got message from memory\n",
      "Added message to memory\n",
      "Added message to memory\n",
      "Added message to memory\n",
      "Added message to memory\n",
      "Added message to memory\n",
      "Added message to memory\n",
      "Added message to memory\n",
      "Added message to memory\n",
      "Removed old message from cache\n",
      "Added message to memory\n",
      "Removed old message from cache\n",
      "Added message to memory\n",
      "Removed old message from cache\n",
      "Added message to memory\n",
      "Removed old message from cache\n",
      "Added message to memory\n",
      "Removed old message from cache\n",
      "Added message to memory\n",
      "Removed old message from cache\n",
      "Added message to memory\n"
     ]
    },
    {
     "data": {
      "text/plain": [
       "ChatCompletion(id='a05016e3-a3ff-439d-b050-965e4dc259e3', choices=[Choice(finish_reason='stop', index=0, logprobs=None, message=ChatCompletionMessage(content='The telephone was invented by Alexander Graham Bell in 1876.', role='assistant', function_call=None, tool_calls=None))], created=1720453001, model='gpt-3.5-turbo', object='chat.completion', system_fingerprint=None, usage=None, session_id=None, chat_input='Who invented the telephone?', chat_output='The telephone was invented by Alexander Graham Bell in 1876.', context=[{'role': 'user', 'content': 'Who invented the telephone?'}], provider='openai', deployment='gpt-3.5-turbo-0125', timestamp=1720453002.081206, parameters={'temperature': None, 'max_tokens': None, 'top_p': None, 'frequency_penalty': None, 'presence_penalty': None}, metrics={'input_tokens': 5, 'output_tokens': 13, 'total_tokens': 18, 'cost_usd': 2.2e-05, 'latency_s': 0.8104031085968018, 'time_to_first_token_s': 0.650144100189209, 'inter_token_latency_s': 0.0113241331917899, 'tokens_per_second': 18.509307085423483})"
      ]
     },
     "execution_count": 8,
     "metadata": {},
     "output_type": "execute_result"
    }
   ],
   "source": [
    "await llm.cache_chat(\"Hello chat\")\n",
    "await llm.cache_chat(\"What's the weather like today?\")\n",
    "await llm.cache_chat(\"Tell me a joke\")\n",
    "await llm.cache_chat(\"What's the latest news?\")\n",
    "await llm.cache_chat(\"Who won the last world cup?\")\n",
    "await llm.cache_chat(\"What's the capital of Australia?\")\n",
    "await llm.cache_chat(\"Translate 'Hello' to Spanish\")\n",
    "await llm.cache_chat(\"What's the distance between Earth and Mars?\")\n",
    "await llm.cache_chat(\"Who is the current president of the United States?\")\n",
    "await llm.cache_chat(\"What's the tallest building in the world?\")\n",
    "await llm.cache_chat(\"Who wrote 'To Kill a Mockingbird'?\")\n",
    "await llm.cache_chat(\"What's the square root of 256?\")\n",
    "await llm.cache_chat(\"What's the meaning of life?\")\n",
    "await llm.cache_chat(\"What's the speed of light?\")\n",
    "await llm.cache_chat(\"Who invented the telephone?\")"
   ]
  },
  {
   "cell_type": "code",
   "execution_count": null,
   "metadata": {},
   "outputs": [],
   "source": []
  }
 ],
 "metadata": {
  "kernelspec": {
   "display_name": "llmstudiodev",
   "language": "python",
   "name": "python3"
  },
  "language_info": {
   "codemirror_mode": {
    "name": "ipython",
    "version": 3
   },
   "file_extension": ".py",
   "mimetype": "text/x-python",
   "name": "python",
   "nbconvert_exporter": "python",
   "pygments_lexer": "ipython3",
   "version": "3.11.9"
  }
 },
 "nbformat": 4,
 "nbformat_minor": 2
}
