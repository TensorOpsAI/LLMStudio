{
 "cells": [
  {
   "cell_type": "markdown",
   "metadata": {},
   "source": [
    "# BigQuery Integration\n",
    "\n",
    "This notebook demonstrates how to set up and use the LLMstudio tracking functionalities integrated to BigQuery. \n",
    "\n",
    "You'll learn:\n",
    "1. Authenticate BigQuery\n",
    "2. Start a local Tracker server\n",
    "3. See the saved logs\n",
    "\n",
    "First things first:\n",
    "* run `pip install llmstudio[tracker]`\n",
    "* update your .env file with `GOOGLE_API_KEY` or `OPENAI_API_KEY` \n"
   ]
  },
  {
   "cell_type": "markdown",
   "metadata": {},
   "source": [
    "### BigQuery setup\n",
    "\n",
    "To use BigQuery, follow these steps:\n",
    "\n",
    "1. Select or create a Cloud Platform project.\n",
    "2. [Create a BigQuery Dataset](https://cloud.google.com/bigquery/docs/datasets)\n",
    "2. [Enable the BigQuery Storage API](https://console.cloud.google.com/apis/library/bigquery.googleapis.com).\n",
    "3. [Setup Authentication:](https://googleapis.dev/python/google-api-core/latest/auth.html)\n",
    "    - If you’re running in a Google Virtual Machine Environment (Compute Engine, App Engine, Cloud Run, Cloud Functions), authentication should “just work”.\n",
    "    - If you’re developing locally, the easiest way to authenticate is using the Google Cloud SDK:\n",
    "       ```$ gcloud auth application-default login```\n",
    "    - If you’re running your application elsewhere, you should download a service account JSON keyfile and point to it using an environment variable: \n",
    "      ```$ export GOOGLE_APPLICATION_CREDENTIALS=\"/path/to/keyfile.json\"```\n",
    "\n",
    "   \n"
   ]
  },
  {
   "cell_type": "markdown",
   "metadata": {},
   "source": [
    "## LLMstudio Tracker setup\n",
    "\n",
    "For LLMstudio to store your logs in BigQuery you need to set the 'LLMSTUDIO_TRACKING_URI' environment variable with the corresponding uri, which will be in this format: `bigquery://<YOUR-GCP-PROJECT-ID>/<YOUR-BQ-DATASET-ID>`"
   ]
  },
  {
   "cell_type": "code",
   "execution_count": null,
   "metadata": {},
   "outputs": [],
   "source": [
    "import os\n",
    "\n",
    "os.environ[\"LLMSTUDIO_TRACKING_URI\"] = \"bigquery://<YOUR-GCP-PROJECT-ID>/<YOUR-BQ-DATASET-ID>\""
   ]
  },
  {
   "cell_type": "code",
   "execution_count": 1,
   "metadata": {},
   "outputs": [],
   "source": [
    "from llmstudio.providers import LLM\n",
    "from pprint import pprint"
   ]
  },
  {
   "cell_type": "code",
   "execution_count": 2,
   "metadata": {},
   "outputs": [
    {
     "name": "stdout",
     "output_type": "stream",
     "text": [
      "Running LLMstudio Tracking on http://0.0.0.0:8002 \n"
     ]
    }
   ],
   "source": [
    "from llmstudio.server import start_servers\n",
    "start_servers(proxy=False, tracker=True)"
   ]
  },
  {
   "cell_type": "code",
   "execution_count": null,
   "metadata": {},
   "outputs": [],
   "source": [
    "from llmstudio_tracker.tracker import TrackingConfig\n",
    "# default port is 50002. set the environment varible to specify which host and port; LLMSTUDIO_TRACKING_HOST, LLMSTUDIO_TRACKING_PORT\n",
    "tracker_config = TrackingConfig(host=\"0.0.0.0\", port=\"50002\")\n",
    "# You can set OPENAI_API_KEY and ANTHROPIC_API_KEY on .env file\n",
    "openai = LLM(\"openai\", tracking_config = tracker_config)\n"
   ]
  },
  {
   "cell_type": "markdown",
   "metadata": {},
   "source": [
    "## Analyse logs"
   ]
  },
  {
   "cell_type": "code",
   "execution_count": 8,
   "metadata": {},
   "outputs": [],
   "source": [
    "from llmstudio_tracker.tracker import Tracker\n",
    "\n",
    "tracker = Tracker(tracking_config=tracker_config)"
   ]
  },
  {
   "cell_type": "code",
   "execution_count": 9,
   "metadata": {},
   "outputs": [
    {
     "data": {
      "text/plain": [
       "{'chat_input': \"Write a paragraph explaining why you're not a cat\",\n",
       " 'chat_output': \"I’m not a cat because I lack the physical form and instincts that characterize feline creatures. Unlike a cat, I don’t have a furry coat, retractable claws, or the ability to pounce playfully on a sunbeam. I don’t experience the world through senses like smell, sight, or sound, nor do I possess the whimsical personality traits that make cats so captivating, such as their curiosity and independence. Instead, I am a collection of algorithms and data, designed to process information and generate responses, which allows me to assist you in ways that a cat simply can't—like answering questions, providing explanations, or engaging in conversation.\",\n",
       " 'session_id': '20241024-110303-e8b361d9-d5f6-4b73-80f1-6d77a4be3793',\n",
       " 'context': [{'role': 'user',\n",
       "   'content': \"Write a paragraph explaining why you're not a cat\"}],\n",
       " 'provider': 'openai',\n",
       " 'model': 'gpt-4o-mini',\n",
       " 'deployment': 'gpt-4o-mini-2024-07-18',\n",
       " 'parameters': {},\n",
       " 'metrics': {'input_tokens': 10,\n",
       "  'output_tokens': 132,\n",
       "  'total_tokens': 142,\n",
       "  'cost_usd': 8.07e-05,\n",
       "  'latency_s': 1.7590069770812988,\n",
       "  'time_to_first_token_s': 0.450714111328125,\n",
       "  'inter_token_latency_s': 0.010057984865628755,\n",
       "  'tokens_per_second': 74.47383762932361},\n",
       " 'log_id': 56,\n",
       " 'created_at': '2024-10-24T11:03:26'}"
      ]
     },
     "execution_count": 9,
     "metadata": {},
     "output_type": "execute_result"
    }
   ],
   "source": [
    "logs = tracker.get_logs()\n",
    "logs.json()[-1]"
   ]
  },
  {
   "cell_type": "markdown",
   "metadata": {},
   "source": [
    "## Add a session id to tracking logs\n",
    "\n",
    "* this is especially benefitial if running an app, chatbot agent, etc in production and you need to correlate user feedback, costs etc with user sessions, agent runs, etc"
   ]
  },
  {
   "cell_type": "code",
   "execution_count": null,
   "metadata": {},
   "outputs": [],
   "source": [
    "# default port is 50002. set the environment varible to specify which host and port; LLMSTUDIO_TRACKING_HOST, LLMSTUDIO_TRACKING_PORT\n",
    "# You can set OPENAI_API_KEY on .env file\n",
    "openai = LLM(\"openai\", tracking_config = tracker_config, session_id=\"openai-session-1\")\n"
   ]
  },
  {
   "cell_type": "code",
   "execution_count": 11,
   "metadata": {},
   "outputs": [
    {
     "name": "stdout",
     "output_type": "stream",
     "text": [
      "\n",
      "\n",
      "Tracking AI agents' usage metrics and costs, alongside correlating them with user feedback, is crucial\n",
      "\n",
      " for optimizing performance and user satisfaction. Usage metrics provide insights into how often and in what ways AI agents\n",
      "\n",
      " are being utilized, helping to identify patterns, peak usage times, and potential bottlenecks that could\n",
      "\n",
      " affect service quality. Monitoring costs is equally important to ensure that resources are allocated efficiently, preventing financial waste\n",
      "\n",
      " while maximizing return on investment. By correlating these metrics with user feedback, developers and stakeholders can gain\n",
      "\n",
      " a holistic understanding of how the AI agent is performing in real-world settings. This integrated approach enables the\n",
      "\n",
      " identification of areas for improvement, the fine-tuning of algorithms, and the enhancement of user experience,\n",
      "\n",
      " ultimately leading to more effective, scalable, and user-friendly AI solutions. Additionally, it allows for the\n",
      "\n",
      " alignment of AI functionalities with user demands and business objectives, fostering continuous innovation and value creation.\n",
      "\n",
      "## Metrics:\n",
      "{'cost_usd': 0.0027600000000000003,\n",
      " 'input_tokens': 21,\n",
      " 'inter_token_latency_s': 0.015782629505971844,\n",
      " 'latency_s': 3.4153928756713867,\n",
      " 'output_tokens': 177,\n",
      " 'time_to_first_token_s': 0.6054329872131348,\n",
      " 'tokens_per_second': 52.40978315410135,\n",
      " 'total_tokens': 198}\n"
     ]
    }
   ],
   "source": [
    "response = openai.chat(\"Write a paragraph explaining why it's important to track AI agents usage metrics and costs and correlate with user feedback\", model=\"gpt-4o\", is_stream=True)\n",
    "for i, chunk in enumerate(response):\n",
    "    if i%20==0:\n",
    "        print(\"\\n\")\n",
    "    if not chunk.metrics:\n",
    "        print(chunk.chat_output_stream, end=\"\", flush=True)\n",
    "    else:\n",
    "        print(\"\\n\\n## Metrics:\")\n",
    "        pprint(chunk.metrics)\n"
   ]
  },
  {
   "cell_type": "code",
   "execution_count": 12,
   "metadata": {},
   "outputs": [
    {
     "data": {
      "text/plain": [
       "{'chat_input': \"Write a paragraph explaining why it's important to track AI agents usage metrics and costs and correlate with user feedback\",\n",
       " 'chat_output': \"Tracking AI agents' usage metrics and costs, alongside correlating them with user feedback, is crucial for optimizing performance and user satisfaction. Usage metrics provide insights into how often and in what ways AI agents are being utilized, helping to identify patterns, peak usage times, and potential bottlenecks that could affect service quality. Monitoring costs is equally important to ensure that resources are allocated efficiently, preventing financial waste while maximizing return on investment. By correlating these metrics with user feedback, developers and stakeholders can gain a holistic understanding of how the AI agent is performing in real-world settings. This integrated approach enables the identification of areas for improvement, the fine-tuning of algorithms, and the enhancement of user experience, ultimately leading to more effective, scalable, and user-friendly AI solutions. Additionally, it allows for the alignment of AI functionalities with user demands and business objectives, fostering continuous innovation and value creation.\",\n",
       " 'session_id': 'openai-session-1',\n",
       " 'context': [{'role': 'user',\n",
       "   'content': \"Write a paragraph explaining why it's important to track AI agents usage metrics and costs and correlate with user feedback\"}],\n",
       " 'provider': 'openai',\n",
       " 'model': 'gpt-4o',\n",
       " 'deployment': 'gpt-4o-2024-08-06',\n",
       " 'parameters': {},\n",
       " 'metrics': {'input_tokens': 21,\n",
       "  'output_tokens': 177,\n",
       "  'total_tokens': 198,\n",
       "  'cost_usd': 0.0027600000000000003,\n",
       "  'latency_s': 3.4153928756713867,\n",
       "  'time_to_first_token_s': 0.6054329872131348,\n",
       "  'inter_token_latency_s': 0.015782629505971844,\n",
       "  'tokens_per_second': 52.40978315410135},\n",
       " 'log_id': 57,\n",
       " 'created_at': '2024-10-24T11:04:21'}"
      ]
     },
     "execution_count": 12,
     "metadata": {},
     "output_type": "execute_result"
    }
   ],
   "source": [
    "logs = tracker.get_session_logs(session_id=\"openai-session-1\")\n",
    "logs.json()[-1]"
   ]
  }
 ],
 "metadata": {
  "kernelspec": {
   "display_name": "Python 3",
   "language": "python",
   "name": "python3"
  },
  "language_info": {
   "codemirror_mode": {
    "name": "ipython",
    "version": 3
   },
   "file_extension": ".py",
   "mimetype": "text/x-python",
   "name": "python",
   "nbconvert_exporter": "python",
   "pygments_lexer": "ipython3",
   "version": "3.12.2"
  }
 },
 "nbformat": 4,
 "nbformat_minor": 2
}
