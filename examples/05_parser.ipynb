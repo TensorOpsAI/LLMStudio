{
 "cells": [
  {
   "cell_type": "markdown",
   "metadata": {},
   "source": [
    "### Imports"
   ]
  },
  {
   "cell_type": "code",
   "execution_count": 5,
   "metadata": {},
   "outputs": [],
   "source": [
    "from llmstudio import LLM, Parser\n",
    "from pydantic import BaseModel"
   ]
  },
  {
   "cell_type": "markdown",
   "metadata": {},
   "source": [
    "### Setup Models"
   ]
  },
  {
   "cell_type": "code",
   "execution_count": 6,
   "metadata": {},
   "outputs": [],
   "source": [
    "gpt3 = LLM(\"openai/gpt-3.5-turbo\")"
   ]
  },
  {
   "cell_type": "code",
   "execution_count": 7,
   "metadata": {},
   "outputs": [],
   "source": [
    "flash = LLM(\"vertexai/gemini-1.5-flash\")"
   ]
  },
  {
   "cell_type": "markdown",
   "metadata": {},
   "source": [
    "### Usage Example"
   ]
  },
  {
   "cell_type": "code",
   "execution_count": 8,
   "metadata": {},
   "outputs": [
    {
     "name": "stdout",
     "output_type": "stream",
     "text": [
      "{\n",
      "  \"name\": \"Diogo\",\n",
      "  \"age\": 24\n",
      "}\n"
     ]
    }
   ],
   "source": [
    "gpt_response = gpt3.chat('Reply with this in the JSON format: Diogo is 24 years old')\n",
    "print(gpt_response.chat_output)"
   ]
  },
  {
   "cell_type": "code",
   "execution_count": 9,
   "metadata": {},
   "outputs": [
    {
     "name": "stdout",
     "output_type": "stream",
     "text": [
      "```json\n",
      "{\n",
      "  \"name\": \"Diogo\",\n",
      "  \"age\": 24\n",
      "}\n",
      "``` \n",
      "\n"
     ]
    }
   ],
   "source": [
    "flash_response = flash.chat('Reply with this in the JSON format: Diogo is 24 years old')\n",
    "print(flash_response.chat_output)"
   ]
  },
  {
   "cell_type": "code",
   "execution_count": 10,
   "metadata": {},
   "outputs": [
    {
     "name": "stdout",
     "output_type": "stream",
     "text": [
      "Parsed GPT-3 Response: name='Diogo' age=24\n",
      "Parsed Flash Response: name='Diogo' age=24\n"
     ]
    }
   ],
   "source": [
    "parser = Parser()\n",
    "\n",
    "class User(BaseModel):\n",
    "    name: str\n",
    "    age: int\n",
    "\n",
    "response_model = User\n",
    "\n",
    "gpt_reponse_parsed = parser.parse_response(gpt_response.chat_output, User)\n",
    "flash_response_parsed = parser.parse_response(flash_response.chat_output, User)\n",
    "\n",
    "print(\"Parsed GPT-3 Response:\", gpt_reponse_parsed) \n",
    "print(\"Parsed Flash Response:\", flash_response_parsed)\n"
   ]
  }
 ],
 "metadata": {
  "kernelspec": {
   "display_name": "llmstudiodev",
   "language": "python",
   "name": "python3"
  },
  "language_info": {
   "codemirror_mode": {
    "name": "ipython",
    "version": 3
   },
   "file_extension": ".py",
   "mimetype": "text/x-python",
   "name": "python",
   "nbconvert_exporter": "python",
   "pygments_lexer": "ipython3",
   "version": "3.11.9"
  }
 },
 "nbformat": 4,
 "nbformat_minor": 2
}
